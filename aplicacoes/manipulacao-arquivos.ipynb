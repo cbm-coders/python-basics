{
 "cells": [
  {
   "cell_type": "code",
   "execution_count": 2,
   "metadata": {},
   "outputs": [
    {
     "name": "stdout",
     "output_type": "stream",
     "text": [
      "Dom Casmurro \n",
      "\n",
      "Texto de referenda: \n",
      "Obras Completas de Machado de Assis, vol. I, \n",
      "Nova Aguilar, Rio de Janeiro, 1994. \n",
      "Publicado originalmente pela Editora Gamier, Rio de Janeiro, 1899. \n",
      "\n",
      "\n",
      "CAPITULO PRIMEIRO \n",
      "DO TITULO \n",
      "\n",
      "Uma noite destas, vindo da cidade para o Engenho Novo, encontrei no trem da \n",
      "Central um rapaz aqui do bairro, que eu conhego de vista e de chapeu. \n",
      "Cumprimentou-me, sentou-se ao pe de mim, falou da Lua e dos ministros, e \n",
      "acabou recitando-me versos. A viagem era curta, e os versos pode ser que nao \n",
      "fossem inteiramente maus. Sucedeu, porem, que, como eu estava cansado, fechei \n",
      "os olhos tres ou quatro vezes; tanto bastou para que ele interrompesse a leitura e \n",
      "metesse os versos no bolso. \n",
      "\n",
      "— Continue, disse eu acordando. \n",
      "\n",
      "— Ja acabei, murmurou ele. \n",
      "\n",
      "— Sao muito bonitos. \n",
      "\n",
      "Vi-lhe fazer um gesto para tira-los outra vez do bolso, mas nao passou do gesto; \n",
      "estava amuado. No dia seguinte entrou a dizer de mim nomes feios, e acabou \n",
      "alcunhando-me Dom Casmurro. Os vizinhos, que nao gostam dos meus habitos \n",
      "reclusos e calados, deram curso a alcunha, que afinal pegou. Nem por isso me \n",
      "zanguei. Contei a anedota aos amigos da cidade, e eles, por graga, chamam-me \n",
      "assim, alguns em bilhetes: \"Dom Casmurro, domingo vou jantar com voce”.— \n",
      "\"Vou para Petropolis, Dom Casmurro; a casa e a mesma da Renania; ve se deixas \n",
      "essa caverna do Engenho Novo, e vai la passar uns quinze dias comigo\".— \"Meu \n",
      "caro Dom Casmurro, nao cuide que o dispenso do teatro amanha; venha e dormira \n",
      "aqui na cidade; dou-lhe camarote, dou-lhe cha, dou-lhe cama; so nao Ihe dou \n",
      "moga”. \n",
      "\n",
      "Nao consultes dicionarios. Casmurro nao esta aqui no sentido que eles Ihe dao, \n",
      "mas no que Ihe pos o vulgo de homem calado e metido consigo. Dom veio por \n",
      "ironia, para atribuir-me fumos de fidalgo. Tudo por estar cochilando! Tambem nao \n",
      "achei melhor titulo para a minha narracao; se nao tiver outro daqui ate ao fim do \n",
      "livro, vai este mesmo. O meu poeta do trem ficara sabendo que nao Ihe guardo \n",
      "rancor. E com pequeno esforco, sendo o titulo seu, podera cuidar que a obra e \n",
      "sua. Ha livros que apenas terao isso dos seus autores; alguns nem tanto. \n",
      "\n"
     ]
    }
   ],
   "source": [
    "# funcao open\n",
    "# atencao ao caminho do arquivo\n",
    "# atencao ao modo de abertura; no caso estamos usando 'r' de 'read' (somente leitura)\n",
    "# pode ser necessario alterar a codificacao\n",
    "\tarquivo = open('dom_casmurro_cap_1.txt', 'r', encoding='utf-8')\n",
    "texto = arquivo.read()\n",
    "\n",
    "print(texto)\n",
    "\n",
    "arquivo.close()"
   ]
  },
  {
   "cell_type": "code",
   "execution_count": 5,
   "metadata": {},
   "outputs": [
    {
     "name": "stdout",
     "output_type": "stream",
     "text": [
      "Dom Casmurro \n",
      "\n",
      "Texto de referenda: \n",
      "Obras Completas de Machado de Assis, vol. I, \n",
      "Nova Aguilar, Rio de Janeiro, 1994. \n",
      "Publicado originalmente pela Editora Gamier, Rio de Janeiro, 1899. \n",
      "\n",
      "\n",
      "CAPITULO PRIMEIRO \n",
      "DO TITULO \n",
      "\n",
      "Uma noite destas, vindo da cidade para o Engenho Novo, encontrei no trem da \n",
      "Central um rapaz aqui do bairro, que eu conhego de vista e de chapeu. \n",
      "Cumprimentou-me, sentou-se ao pe de mim, falou da Lua e dos ministros, e \n",
      "acabou recitando-me versos. A viagem era curta, e os versos pode ser que nao \n",
      "fossem inteiramente maus. Sucedeu, porem, que, como eu estava cansado, fechei \n",
      "os olhos tres ou quatro vezes; tanto bastou para que ele interrompesse a leitura e \n",
      "metesse os versos no bolso. \n",
      "\n",
      "— Continue, disse eu acordando. \n",
      "\n",
      "— Ja acabei, murmurou ele. \n",
      "\n",
      "— Sao muito bonitos. \n",
      "\n",
      "Vi-lhe fazer um gesto para tira-los outra vez do bolso, mas nao passou do gesto; \n",
      "estava amuado. No dia seguinte entrou a dizer de mim nomes feios, e acabou \n",
      "alcunhando-me Dom Casmurro. Os vizinhos, que nao gostam dos meus habitos \n",
      "reclusos e calados, deram curso a alcunha, que afinal pegou. Nem por isso me \n",
      "zanguei. Contei a anedota aos amigos da cidade, e eles, por graga, chamam-me \n",
      "assim, alguns em bilhetes: \"Dom Casmurro, domingo vou jantar com voce”.— \n",
      "\"Vou para Petropolis, Dom Casmurro; a casa e a mesma da Renania; ve se deixas \n",
      "essa caverna do Engenho Novo, e vai la passar uns quinze dias comigo\".— \"Meu \n",
      "caro Dom Casmurro, nao cuide que o dispenso do teatro amanha; venha e dormira \n",
      "aqui na cidade; dou-lhe camarote, dou-lhe cha, dou-lhe cama; so nao Ihe dou \n",
      "moga”. \n",
      "\n",
      "Nao consultes dicionarios. Casmurro nao esta aqui no sentido que eles Ihe dao, \n",
      "mas no que Ihe pos o vulgo de homem calado e metido consigo. Dom veio por \n",
      "ironia, para atribuir-me fumos de fidalgo. Tudo por estar cochilando! Tambem nao \n",
      "achei melhor titulo para a minha narracao; se nao tiver outro daqui ate ao fim do \n",
      "livro, vai este mesmo. O meu poeta do trem ficara sabendo que nao Ihe guardo \n",
      "rancor. E com pequeno esforco, sendo o titulo seu, podera cuidar que a obra e \n",
      "sua. Ha livros que apenas terao isso dos seus autores; alguns nem tanto. \n"
     ]
    }
   ],
   "source": [
    "# para tratar aquivo linha a linha\n",
    "arquivo = open('dom_casmurro_cap_1.txt', 'r', encoding='utf-8')\n",
    "linha = arquivo.readline()\n",
    "\n",
    "while linha != '':\n",
    "\t# sobrepor terminador do print para nao gerar quebras de linha\n",
    "\tprint(linha, end='')\n",
    "\tlinha = arquivo.readline()\n",
    "\n",
    "arquivo.close()"
   ]
  },
  {
   "cell_type": "code",
   "execution_count": 6,
   "metadata": {},
   "outputs": [
    {
     "name": "stdout",
     "output_type": "stream",
     "text": [
      "Dom Casmurro \n",
      "\n",
      "Texto de referenda: \n",
      "Obras Completas de Machado de Assis, vol. I, \n",
      "Nova Aguilar, Rio de Janeiro, 1994. \n",
      "Publicado originalmente pela Editora Gamier, Rio de Janeiro, 1899. \n",
      "\n",
      "\n",
      "CAPITULO PRIMEIRO \n",
      "DO TITULO \n",
      "\n",
      "Uma noite destas, vindo da cidade para o Engenho Novo, encontrei no trem da \n",
      "Central um rapaz aqui do bairro, que eu conhego de vista e de chapeu. \n",
      "Cumprimentou-me, sentou-se ao pe de mim, falou da Lua e dos ministros, e \n",
      "acabou recitando-me versos. A viagem era curta, e os versos pode ser que nao \n",
      "fossem inteiramente maus. Sucedeu, porem, que, como eu estava cansado, fechei \n",
      "os olhos tres ou quatro vezes; tanto bastou para que ele interrompesse a leitura e \n",
      "metesse os versos no bolso. \n",
      "\n",
      "— Continue, disse eu acordando. \n",
      "\n",
      "— Ja acabei, murmurou ele. \n",
      "\n",
      "— Sao muito bonitos. \n",
      "\n",
      "Vi-lhe fazer um gesto para tira-los outra vez do bolso, mas nao passou do gesto; \n",
      "estava amuado. No dia seguinte entrou a dizer de mim nomes feios, e acabou \n",
      "alcunhando-me Dom Casmurro. Os vizinhos, que nao gostam dos meus habitos \n",
      "reclusos e calados, deram curso a alcunha, que afinal pegou. Nem por isso me \n",
      "zanguei. Contei a anedota aos amigos da cidade, e eles, por graga, chamam-me \n",
      "assim, alguns em bilhetes: \"Dom Casmurro, domingo vou jantar com voce”.— \n",
      "\"Vou para Petropolis, Dom Casmurro; a casa e a mesma da Renania; ve se deixas \n",
      "essa caverna do Engenho Novo, e vai la passar uns quinze dias comigo\".— \"Meu \n",
      "caro Dom Casmurro, nao cuide que o dispenso do teatro amanha; venha e dormira \n",
      "aqui na cidade; dou-lhe camarote, dou-lhe cha, dou-lhe cama; so nao Ihe dou \n",
      "moga”. \n",
      "\n",
      "Nao consultes dicionarios. Casmurro nao esta aqui no sentido que eles Ihe dao, \n",
      "mas no que Ihe pos o vulgo de homem calado e metido consigo. Dom veio por \n",
      "ironia, para atribuir-me fumos de fidalgo. Tudo por estar cochilando! Tambem nao \n",
      "achei melhor titulo para a minha narracao; se nao tiver outro daqui ate ao fim do \n",
      "livro, vai este mesmo. O meu poeta do trem ficara sabendo que nao Ihe guardo \n",
      "rancor. E com pequeno esforco, sendo o titulo seu, podera cuidar que a obra e \n",
      "sua. Ha livros que apenas terao isso dos seus autores; alguns nem tanto. \n"
     ]
    }
   ],
   "source": [
    "# eh possivel iterar um arquivo linha a linha usando for\n",
    "arquivo = open('dom_casmurro_cap_1.txt', 'r', encoding='utf-8')\n",
    "for linha in arquivo:\n",
    "\tprint(linha, end='')\n",
    "\n",
    "arquivo.close()"
   ]
  },
  {
   "cell_type": "code",
   "execution_count": 7,
   "metadata": {},
   "outputs": [
    {
     "name": "stdout",
     "output_type": "stream",
     "text": [
      "Dom Casmurro \n",
      "\n",
      "Texto de referenda: \n",
      "Obras Completas de Machado de Assis, vol. I, \n",
      "Nova Aguilar, Rio de Janeiro, 1994. \n",
      "Publicado originalmente pela Editora Gamier, Rio de Janeiro, 1899. \n",
      "\n",
      "\n",
      "CAPITULO PRIMEIRO \n",
      "DO TITULO \n",
      "\n",
      "Uma noite destas, vindo da cidade para o Engenho Novo, encontrei no trem da \n",
      "Central um rapaz aqui do bairro, que eu conhego de vista e de chapeu. \n",
      "Cumprimentou-me, sentou-se ao pe de mim, falou da Lua e dos ministros, e \n",
      "acabou recitando-me versos. A viagem era curta, e os versos pode ser que nao \n",
      "fossem inteiramente maus. Sucedeu, porem, que, como eu estava cansado, fechei \n",
      "os olhos tres ou quatro vezes; tanto bastou para que ele interrompesse a leitura e \n",
      "metesse os versos no bolso. \n",
      "\n",
      "— Continue, disse eu acordando. \n",
      "\n",
      "— Ja acabei, murmurou ele. \n",
      "\n",
      "— Sao muito bonitos. \n",
      "\n",
      "Vi-lhe fazer um gesto para tira-los outra vez do bolso, mas nao passou do gesto; \n",
      "estava amuado. No dia seguinte entrou a dizer de mim nomes feios, e acabou \n",
      "alcunhando-me Dom Casmurro. Os vizinhos, que nao gostam dos meus habitos \n",
      "reclusos e calados, deram curso a alcunha, que afinal pegou. Nem por isso me \n",
      "zanguei. Contei a anedota aos amigos da cidade, e eles, por graga, chamam-me \n",
      "assim, alguns em bilhetes: \"Dom Casmurro, domingo vou jantar com voce”.— \n",
      "\"Vou para Petropolis, Dom Casmurro; a casa e a mesma da Renania; ve se deixas \n",
      "essa caverna do Engenho Novo, e vai la passar uns quinze dias comigo\".— \"Meu \n",
      "caro Dom Casmurro, nao cuide que o dispenso do teatro amanha; venha e dormira \n",
      "aqui na cidade; dou-lhe camarote, dou-lhe cha, dou-lhe cama; so nao Ihe dou \n",
      "moga”. \n",
      "\n",
      "Nao consultes dicionarios. Casmurro nao esta aqui no sentido que eles Ihe dao, \n",
      "mas no que Ihe pos o vulgo de homem calado e metido consigo. Dom veio por \n",
      "ironia, para atribuir-me fumos de fidalgo. Tudo por estar cochilando! Tambem nao \n",
      "achei melhor titulo para a minha narracao; se nao tiver outro daqui ate ao fim do \n",
      "livro, vai este mesmo. O meu poeta do trem ficara sabendo que nao Ihe guardo \n",
      "rancor. E com pequeno esforco, sendo o titulo seu, podera cuidar que a obra e \n",
      "sua. Ha livros que apenas terao isso dos seus autores; alguns nem tanto. \n",
      "\n"
     ]
    }
   ],
   "source": [
    "# para facilitar o gerenciamento e nao precisar fechar arquivo sempre eh possivel utilizar with\n",
    "with open('dom_casmurro_cap_1.txt', 'r', encoding='utf-8') as arquivo:\n",
    "\ttexto = arquivo.read()\n",
    "\tprint(texto)"
   ]
  },
  {
   "cell_type": "code",
   "execution_count": 8,
   "metadata": {},
   "outputs": [
    {
     "ename": "ValueError",
     "evalue": "I/O operation on closed file.",
     "output_type": "error",
     "traceback": [
      "\u001b[0;31m---------------------------------------------------------------------------\u001b[0m",
      "\u001b[0;31mValueError\u001b[0m                                Traceback (most recent call last)",
      "Cell \u001b[0;32mIn [8], line 1\u001b[0m\n\u001b[0;32m----> 1\u001b[0m \u001b[43marquivo\u001b[49m\u001b[38;5;241;43m.\u001b[39;49m\u001b[43mread\u001b[49m\u001b[43m(\u001b[49m\u001b[43m)\u001b[49m\n",
      "\u001b[0;31mValueError\u001b[0m: I/O operation on closed file."
     ]
    }
   ],
   "source": [
    "arquivo.read()"
   ]
  },
  {
   "cell_type": "code",
   "execution_count": 9,
   "metadata": {},
   "outputs": [],
   "source": [
    "# para escrita em arquivo\n",
    "# utilizar 'w' (write) como modo\n",
    "# atencao: se arquivo existir sera sobrescrito\n",
    "\n",
    "with open('arquivo_teste.txt', 'w', encoding='utf-8') as arquivo:\n",
    "\tarquivo.write('Essa eh uma linha que eu escrevi usando Python\\n')\n",
    "\tarquivo.write('Essa eh a segunda linha que eu escrevi usando Python\\n')"
   ]
  },
  {
   "cell_type": "code",
   "execution_count": 13,
   "metadata": {},
   "outputs": [
    {
     "name": "stdout",
     "output_type": "stream",
     "text": [
      "Essa eh uma linha que eu escrevi usando Python\n",
      "Essa eh a segunda linha que eu escrevi usando Python\n",
      "Essa eh a terceira linha que eu escrevi usando Python\n"
     ]
    }
   ],
   "source": [
    "with open('arquivo_teste.txt', 'r', encoding='utf-8') as arquivo:\n",
    "\tprint(arquivo.read(), end='')"
   ]
  },
  {
   "cell_type": "code",
   "execution_count": 12,
   "metadata": {},
   "outputs": [],
   "source": [
    "# utilizar 'a' (append) como modo para adicionar uma nova linha a um arquivo existente\n",
    "\n",
    "with open('arquivo_teste.txt', 'a', encoding='utf-8') as arquivo:\n",
    "\tarquivo.write('Essa eh a terceira linha que eu escrevi usando Python\\n')"
   ]
  }
 ],
 "metadata": {
  "kernelspec": {
   "display_name": "Python 3.9.7 64-bit",
   "language": "python",
   "name": "python3"
  },
  "language_info": {
   "codemirror_mode": {
    "name": "ipython",
    "version": 3
   },
   "file_extension": ".py",
   "mimetype": "text/x-python",
   "name": "python",
   "nbconvert_exporter": "python",
   "pygments_lexer": "ipython3",
   "version": "3.9.7"
  },
  "orig_nbformat": 4,
  "vscode": {
   "interpreter": {
    "hash": "916dbcbb3f70747c44a77c7bcd40155683ae19c65e1c03b4aa3499c5328201f1"
   }
  }
 },
 "nbformat": 4,
 "nbformat_minor": 2
}

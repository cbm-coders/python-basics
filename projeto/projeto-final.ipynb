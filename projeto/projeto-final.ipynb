{
 "cells": [
  {
   "cell_type": "code",
   "execution_count": 1,
   "metadata": {},
   "outputs": [],
   "source": [
    "import requests as r\n",
    "import datetime as dt\n",
    "import csv\n",
    "\n",
    "url = 'https://api.covid19api.com/dayone/country/brazil'\n",
    "\n",
    "response = r.get(url)\n",
    "\n",
    "if response.status_code != 200:\n",
    "\tprint('Nao foi possivel acessar a origem dos dados')\n",
    "\n",
    "raw_data = response.json()\n",
    "\n",
    "final_data = []\n",
    "# header\n",
    "final_data.insert(0, ['confirmados', 'obitos', 'recuperados', 'ativos', 'data'])\n",
    "for obs in raw_data:\n",
    "\tfinal_data.append([obs['Confirmed'], obs['Deaths'], obs['Recovered'], obs['Active'], obs['Date']])\n",
    "\n",
    "# constantes para auxiliar a acessar posicoes da lista\n",
    "CONFIRMADOS = 0\n",
    "OBITOS = 1\n",
    "RECUPERADOS = 2\n",
    "ATIVOS = 3\n",
    "DATA = 4\n",
    "\n",
    "for i in range(1, len(final_data)):\n",
    "\tfinal_data[i][DATA] = final_data[i][DATA][:10]\n",
    "\n",
    "with open('brasil_covid.csv', 'w') as file:\n",
    "\twriter = csv.writer(file)\n",
    "\twriter.writerows(final_data)"
   ]
  }
 ],
 "metadata": {
  "kernelspec": {
   "display_name": "Python 3.9.7 64-bit",
   "language": "python",
   "name": "python3"
  },
  "language_info": {
   "codemirror_mode": {
    "name": "ipython",
    "version": 3
   },
   "file_extension": ".py",
   "mimetype": "text/x-python",
   "name": "python",
   "nbconvert_exporter": "python",
   "pygments_lexer": "ipython3",
   "version": "3.9.7"
  },
  "orig_nbformat": 4,
  "vscode": {
   "interpreter": {
    "hash": "916dbcbb3f70747c44a77c7bcd40155683ae19c65e1c03b4aa3499c5328201f1"
   }
  }
 },
 "nbformat": 4,
 "nbformat_minor": 2
}

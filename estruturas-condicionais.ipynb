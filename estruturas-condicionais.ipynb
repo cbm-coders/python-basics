{
 "cells": [
  {
   "cell_type": "code",
   "execution_count": 2,
   "metadata": {},
   "outputs": [
    {
     "name": "stdout",
     "output_type": "stream",
     "text": [
      "Pegue o ônibus.\n"
     ]
    }
   ],
   "source": [
    "valor_passagem = 4.3\n",
    "\n",
    "valor_corrida = input(\"Qual é o valor da corrida?\")\n",
    "\n",
    "if float(valor_corrida) <= valor_passagem * 5:\n",
    "\tprint(\"Pague a corrida!\")\n",
    "if float(valor_corrida) > valor_passagem * 5:\n",
    "\tprint(\"Pegue o ônibus.\")"
   ]
  },
  {
   "cell_type": "code",
   "execution_count": 4,
   "metadata": {},
   "outputs": [
    {
     "name": "stdout",
     "output_type": "stream",
     "text": [
      "Pegue o ônibus.\n"
     ]
    }
   ],
   "source": [
    "valor_passagem = 4.3\n",
    "\n",
    "valor_corrida = input(\"Qual é o valor da corrida?\")\n",
    "\n",
    "if float(valor_corrida) <= valor_passagem * 5:\n",
    "\tprint(\"Pague a corrida!\")\n",
    "else:\n",
    "\tprint(\"Pegue o ônibus.\")"
   ]
  },
  {
   "cell_type": "code",
   "execution_count": 8,
   "metadata": {},
   "outputs": [
    {
     "name": "stdout",
     "output_type": "stream",
     "text": [
      "Aguarde um momento, o valor pode abaixar.\n"
     ]
    }
   ],
   "source": [
    "valor_passagem = 4.3\n",
    "\n",
    "valor_corrida = input(\"Qual é o valor da corrida?\")\n",
    "\n",
    "if float(valor_corrida) <= valor_passagem * 5:\n",
    "\tprint(\"Pague a corrida!\")\n",
    "else:\n",
    "\tif float(valor_corrida) <= valor_passagem * 6:\n",
    "\t\tprint(\"Aguarde um momento, o valor pode abaixar.\")\n",
    "\telse:\n",
    "\t\tprint(\"Pegue o ônibus.\")"
   ]
  },
  {
   "cell_type": "code",
   "execution_count": 12,
   "metadata": {},
   "outputs": [
    {
     "name": "stdout",
     "output_type": "stream",
     "text": [
      "Pegue o ônibus.\n"
     ]
    }
   ],
   "source": [
    "valor_passagem = 4.3\n",
    "\n",
    "valor_corrida = input(\"Qual é o valor da corrida?\")\n",
    "\n",
    "if float(valor_corrida) <= valor_passagem * 5:\n",
    "\tprint(\"Pague a corrida!\")\n",
    "elif float(valor_corrida) <= valor_passagem * 6:\n",
    "\tprint(\"Aguarde um momento, o valor pode abaixar.\")\n",
    "else:\n",
    "\tprint(\"Pegue o ônibus.\")"
   ]
  }
 ],
 "metadata": {
  "kernelspec": {
   "display_name": "Python 3.9.7 64-bit",
   "language": "python",
   "name": "python3"
  },
  "language_info": {
   "codemirror_mode": {
    "name": "ipython",
    "version": 3
   },
   "file_extension": ".py",
   "mimetype": "text/x-python",
   "name": "python",
   "nbconvert_exporter": "python",
   "pygments_lexer": "ipython3",
   "version": "3.9.7"
  },
  "orig_nbformat": 4,
  "vscode": {
   "interpreter": {
    "hash": "916dbcbb3f70747c44a77c7bcd40155683ae19c65e1c03b4aa3499c5328201f1"
   }
  }
 },
 "nbformat": 4,
 "nbformat_minor": 2
}

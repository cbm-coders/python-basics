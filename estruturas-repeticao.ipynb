{
 "cells": [
  {
   "cell_type": "code",
   "execution_count": null,
   "metadata": {},
   "outputs": [],
   "source": [
    "contador = 0\n",
    "\n",
    "while contador < 10:\n",
    "\tcontador = contador + 1\n",
    "\n",
    "\tif contador == 1:\n",
    "\t\tprint(contador, \"item limpo.\")\n",
    "\telse:\n",
    "\t\tprint(contador, \"itens limpos\")\n",
    "\n",
    "print(\"fim da lavação\")"
   ]
  },
  {
   "cell_type": "code",
   "execution_count": 4,
   "metadata": {},
   "outputs": [
    {
     "name": "stdout",
     "output_type": "stream",
     "text": [
      "1 item limpo.\n",
      "2 itens limpos\n",
      "3 itens limpos\n",
      "4 itens limpos\n",
      "5 itens limpos\n",
      "6 itens limpos\n",
      "7 itens limpos\n",
      "8 itens limpos\n",
      "9 itens limpos\n",
      "10 itens limpos\n",
      "fim da lavação\n"
     ]
    }
   ],
   "source": [
    "contador = 0\n",
    "\n",
    "while True:\n",
    "\tif contador < 10:\n",
    "\t\tcontador = contador + 1\n",
    "\n",
    "\t\tif contador == 1:\n",
    "\t\t\tprint(contador, \"item limpo.\")\n",
    "\t\telse:\n",
    "\t\t\tprint(contador, \"itens limpos\")\n",
    "\telse:\n",
    "\t\tbreak\n",
    "\n",
    "print(\"fim da lavação\")"
   ]
  },
  {
   "cell_type": "code",
   "execution_count": 2,
   "metadata": {},
   "outputs": [
    {
     "name": "stdout",
     "output_type": "stream",
     "text": [
      "Acesso permitido.\n"
     ]
    }
   ],
   "source": [
    "texto = input('Digite a sua senha:')\n",
    "\n",
    "while texto != 'LetsCode':\n",
    "\ttexto = input('Senha inválida. Tente novamente.')\n",
    "\n",
    "print('Acesso permitido.')"
   ]
  }
 ],
 "metadata": {
  "kernelspec": {
   "display_name": "Python 3.9.7 64-bit",
   "language": "python",
   "name": "python3"
  },
  "language_info": {
   "codemirror_mode": {
    "name": "ipython",
    "version": 3
   },
   "file_extension": ".py",
   "mimetype": "text/x-python",
   "name": "python",
   "nbconvert_exporter": "python",
   "pygments_lexer": "ipython3",
   "version": "3.9.7"
  },
  "orig_nbformat": 4,
  "vscode": {
   "interpreter": {
    "hash": "916dbcbb3f70747c44a77c7bcd40155683ae19c65e1c03b4aa3499c5328201f1"
   }
  }
 },
 "nbformat": 4,
 "nbformat_minor": 2
}

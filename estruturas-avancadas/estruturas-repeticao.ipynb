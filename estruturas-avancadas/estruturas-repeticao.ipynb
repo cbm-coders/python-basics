{
 "cells": [
  {
   "cell_type": "code",
   "execution_count": 3,
   "metadata": {},
   "outputs": [
    {
     "name": "stdout",
     "output_type": "stream",
     "text": [
      "Sao Paulo\n",
      "Nova Iorque\n",
      "Paris\n",
      "Milao\n"
     ]
    }
   ],
   "source": [
    "# for loop\n",
    "# estrutura especializada em iterar (percorrer uma estrutura de dados)\n",
    "# ou quando ha uma sequencia de tarefas que deve ser repetida um numero conhecido de vezes\n",
    "nomes_cidades = ['Sao Paulo', 'Nova Iorque', 'Paris', 'Milao']\n",
    "\n",
    "for nome in nomes_cidades:\n",
    "\tprint(nome)"
   ]
  },
  {
   "cell_type": "code",
   "execution_count": 2,
   "metadata": {},
   "outputs": [
    {
     "name": "stdout",
     "output_type": "stream",
     "text": [
      "Sao Paulo\n",
      "Nova Iorque\n",
      "Paris\n",
      "Milao\n"
     ]
    }
   ],
   "source": [
    "# comparacao com while\n",
    "contador = 0\n",
    "while contador < len(nomes_cidades):\n",
    "\tprint(nomes_cidades[contador])\n",
    "\tcontador = contador + 1"
   ]
  },
  {
   "cell_type": "code",
   "execution_count": 9,
   "metadata": {},
   "outputs": [
    {
     "name": "stdout",
     "output_type": "stream",
     "text": [
      "Sao Paulo\n",
      "Nova Iorque\n",
      "Paris\n",
      "Milao\n"
     ]
    }
   ],
   "source": [
    "# utilizar para tupla\n",
    "nomes_cidades_tupla = 'Sao Paulo', 'Nova Iorque', 'Paris', 'Milao'\n",
    "\n",
    "for nome in nomes_cidades_tupla:\n",
    "\tprint(nome)"
   ]
  },
  {
   "cell_type": "code",
   "execution_count": 6,
   "metadata": {},
   "outputs": [
    {
     "name": "stdout",
     "output_type": "stream",
     "text": [
      "nome: Uberlandia\n",
      "estado: MG\n",
      "populacao: 750\n"
     ]
    }
   ],
   "source": [
    "# com dicionario\n",
    "cidade = {\n",
    "\t'nome': 'Uberlandia',\n",
    "\t'estado': 'MG',\n",
    "\t'populacao': 750\n",
    "}\n",
    "\n",
    "for chave in cidade:\n",
    "\tprint(f'{chave}: {cidade[chave]}')"
   ]
  },
  {
   "cell_type": "code",
   "execution_count": 17,
   "metadata": {},
   "outputs": [
    {
     "name": "stdout",
     "output_type": "stream",
     "text": [
      "['Sao Paulo', 'Nova Iorque', 'Paris', 'Milao']\n",
      "['nova', 'nova', 'nova', 'nova']\n"
     ]
    }
   ],
   "source": [
    "# alterando valores\n",
    "nomes_cidades_alterar = ['Sao Paulo', 'Nova Iorque', 'Paris', 'Milao']\n",
    "print(nomes_cidades_alterar)\n",
    "\n",
    "for posicao in range(len(nomes_cidades_alterar)):\n",
    "\tnomes_cidades_alterar[posicao] = 'nova'\n",
    "\n",
    "print(nomes_cidades_alterar)"
   ]
  }
 ],
 "metadata": {
  "kernelspec": {
   "display_name": "Python 3.9.7 64-bit",
   "language": "python",
   "name": "python3"
  },
  "language_info": {
   "codemirror_mode": {
    "name": "ipython",
    "version": 3
   },
   "file_extension": ".py",
   "mimetype": "text/x-python",
   "name": "python",
   "nbconvert_exporter": "python",
   "pygments_lexer": "ipython3",
   "version": "3.9.7"
  },
  "orig_nbformat": 4,
  "vscode": {
   "interpreter": {
    "hash": "916dbcbb3f70747c44a77c7bcd40155683ae19c65e1c03b4aa3499c5328201f1"
   }
  }
 },
 "nbformat": 4,
 "nbformat_minor": 2
}

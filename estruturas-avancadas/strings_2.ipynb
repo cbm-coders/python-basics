{
 "cells": [
  {
   "cell_type": "code",
   "execution_count": 2,
   "metadata": {},
   "outputs": [
    {
     "name": "stdout",
     "output_type": "stream",
     "text": [
      "Ola, Felipe\n",
      "FelipeFelipeFelipeFelipe\n"
     ]
    }
   ],
   "source": [
    "# concatenacao de strings\n",
    "cumprimento = 'Ola, '\n",
    "nome = 'Felipe'\n",
    "\n",
    "print(cumprimento + nome)\n",
    "print(nome * 4)"
   ]
  },
  {
   "cell_type": "code",
   "execution_count": 4,
   "metadata": {},
   "outputs": [
    {
     "name": "stdout",
     "output_type": "stream",
     "text": [
      "Felipe tem 35 anos e 2 filhos\n"
     ]
    }
   ],
   "source": [
    "nome = 'Felipe'\n",
    "idade = 35\n",
    "numero_de_filhos = 2\n",
    "\n",
    "# para concatenar string e um valor numerico eh necessario converter o valor numerico para string\n",
    "print(nome + ' tem ' + str(idade) + ' anos e ' + str(numero_de_filhos) + ' filhos')"
   ]
  },
  {
   "cell_type": "code",
   "execution_count": 6,
   "metadata": {},
   "outputs": [
    {
     "name": "stdout",
     "output_type": "stream",
     "text": [
      "Felipe tem 35 anos e 2 filho(s)\n"
     ]
    }
   ],
   "source": [
    "# format\n",
    "# criar uma string com mascaras para valores\n",
    "# utilizar {}\n",
    "print('{} tem {} anos e {} filho(s)'.format(nome, idade, numero_de_filhos))"
   ]
  },
  {
   "cell_type": "code",
   "execution_count": 7,
   "metadata": {},
   "outputs": [
    {
     "name": "stdout",
     "output_type": "stream",
     "text": [
      "O preco da gasolina hoje eh R$ 4.28\n"
     ]
    }
   ],
   "source": [
    "preco_gasolina = 4.279\n",
    "print('O preco da gasolina hoje eh R$ {:.2f}'.format(preco_gasolina))"
   ]
  },
  {
   "cell_type": "code",
   "execution_count": 8,
   "metadata": {},
   "outputs": [
    {
     "name": "stdout",
     "output_type": "stream",
     "text": [
      "Felipe tem 35 anos e 2 filho(s).\n"
     ]
    }
   ],
   "source": [
    "# atalho para format\n",
    "# utilizar letra f antes da string\n",
    "print(f'{nome} tem {idade} anos e {numero_de_filhos} filho(s).')"
   ]
  }
 ],
 "metadata": {
  "kernelspec": {
   "display_name": "Python 3.9.7 64-bit",
   "language": "python",
   "name": "python3"
  },
  "language_info": {
   "codemirror_mode": {
    "name": "ipython",
    "version": 3
   },
   "file_extension": ".py",
   "mimetype": "text/x-python",
   "name": "python",
   "nbconvert_exporter": "python",
   "pygments_lexer": "ipython3",
   "version": "3.9.7"
  },
  "orig_nbformat": 4,
  "vscode": {
   "interpreter": {
    "hash": "916dbcbb3f70747c44a77c7bcd40155683ae19c65e1c03b4aa3499c5328201f1"
   }
  }
 },
 "nbformat": 4,
 "nbformat_minor": 2
}

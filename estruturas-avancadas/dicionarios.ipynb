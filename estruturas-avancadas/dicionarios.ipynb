{
 "cells": [
  {
   "cell_type": "code",
   "execution_count": 2,
   "metadata": {},
   "outputs": [
    {
     "name": "stdout",
     "output_type": "stream",
     "text": [
      "<class 'dict'>\n",
      "{'nome': 'Uberlandia', 'estado': 'Minas Gerais', 'area_km2': 200, 'populacao_mil': 800}\n"
     ]
    }
   ],
   "source": [
    "# dicionario\n",
    "# eh uma colecao associativa nao ordenada\n",
    "# formada por pares\n",
    "# analogia com dicionario: verbete + significado\n",
    "# {key, value}\n",
    "dados_cidade = {\n",
    "\t'nome': 'Uberlandia',\n",
    "\t'estado': 'Minas Gerais',\n",
    "\t'area_km2': 200,\n",
    "\t'populacao_mil': 800\n",
    "}\n",
    "\n",
    "print(type(dados_cidade))\n",
    "\n",
    "print(dados_cidade)\n"
   ]
  },
  {
   "cell_type": "code",
   "execution_count": 3,
   "metadata": {},
   "outputs": [
    {
     "name": "stdout",
     "output_type": "stream",
     "text": [
      "{'nome': 'Uberlandia', 'estado': 'Minas Gerais', 'area_km2': 200, 'populacao_mil': 800, 'pais': 'Brasil'}\n"
     ]
    }
   ],
   "source": [
    "# adicionar um par chave+valor\n",
    "dados_cidade['pais'] = 'Brasil'\n",
    "\n",
    "print(dados_cidade)"
   ]
  },
  {
   "cell_type": "code",
   "execution_count": 4,
   "metadata": {},
   "outputs": [
    {
     "name": "stdout",
     "output_type": "stream",
     "text": [
      "Uberlandia\n"
     ]
    }
   ],
   "source": [
    "# acessar um valor\n",
    "print(dados_cidade['nome'])"
   ]
  },
  {
   "cell_type": "code",
   "execution_count": 5,
   "metadata": {},
   "outputs": [
    {
     "name": "stdout",
     "output_type": "stream",
     "text": [
      "{'nome': 'Uberlandia', 'estado': 'Minas Gerais', 'area_km2': 202, 'populacao_mil': 800, 'pais': 'Brasil'}\n"
     ]
    }
   ],
   "source": [
    "# alterar um valor do dicionario\n",
    "# basta informar a chave e atribuir o valor\n",
    "dados_cidade['area_km2'] = 202\n",
    "\n",
    "print(dados_cidade)"
   ]
  },
  {
   "cell_type": "code",
   "execution_count": 7,
   "metadata": {},
   "outputs": [
    {
     "name": "stdout",
     "output_type": "stream",
     "text": [
      "{'nome': 'Uberlandia', 'estado': 'Minas Gerais', 'area_km2': 202, 'populacao_mil': 752, 'pais': 'Brasil'}\n",
      "{'nome': 'Uberlandia', 'estado': 'Minas Gerais', 'area_km2': 202, 'populacao_mil': 752, 'pais': 'Brasil'}\n",
      "{'nome': 'Uberlandia', 'estado': 'Minas Gerais', 'area_km2': 202, 'populacao_mil': 755, 'pais': 'Brasil'}\n",
      "{'nome': 'Uberlandia', 'estado': 'Minas Gerais', 'area_km2': 202, 'populacao_mil': 752, 'pais': 'Brasil'}\n",
      "{'nome': 'Uberlandia', 'estado': 'Minas Gerais', 'area_km2': 202, 'populacao_mil': 752, 'pais': 'Brasil'}\n"
     ]
    }
   ],
   "source": [
    "# atribuicao por referencia\n",
    "dados_cidade_2 = dados_cidade\n",
    "dados_cidade_2['populacao_mil'] = 752\n",
    "\n",
    "print(dados_cidade_2)\n",
    "print(dados_cidade)\n",
    "\n",
    "# para criar uma nova variavel\n",
    "dados_cidade_3 = dados_cidade.copy()\n",
    "dados_cidade_3['populacao_mil'] = 755\n",
    "\n",
    "print(dados_cidade_3)\n",
    "print(dados_cidade_2)\n",
    "print(dados_cidade)\n"
   ]
  },
  {
   "cell_type": "code",
   "execution_count": 8,
   "metadata": {},
   "outputs": [
    {
     "name": "stdout",
     "output_type": "stream",
     "text": [
      "{'nome': 'Uberlandia', 'estado': 'Minas Gerais', 'area_km2': 202, 'populacao_mil': 725, 'pais': 'Brasil', 'data_fundacao': '31/08/1878'}\n"
     ]
    }
   ],
   "source": [
    "# update em um dicionario a partir de outro dicionario\n",
    "novo_dicionario = {\n",
    "\t'populacao_mil': 725,\n",
    "\t'data_fundacao': '31/08/1878'\n",
    "}\n",
    "\n",
    "dados_cidade.update(novo_dicionario)\n",
    "print(dados_cidade)"
   ]
  },
  {
   "cell_type": "code",
   "execution_count": 9,
   "metadata": {},
   "outputs": [
    {
     "ename": "KeyError",
     "evalue": "'prefeito'",
     "output_type": "error",
     "traceback": [
      "\u001b[0;31m---------------------------------------------------------------------------\u001b[0m",
      "\u001b[0;31mKeyError\u001b[0m                                  Traceback (most recent call last)",
      "Cell \u001b[0;32mIn [9], line 2\u001b[0m\n\u001b[1;32m      1\u001b[0m \u001b[38;5;66;03m# acesso a chave que nao existe\u001b[39;00m\n\u001b[0;32m----> 2\u001b[0m \u001b[38;5;28mprint\u001b[39m(\u001b[43mdados_cidade\u001b[49m\u001b[43m[\u001b[49m\u001b[38;5;124;43m'\u001b[39;49m\u001b[38;5;124;43mprefeito\u001b[39;49m\u001b[38;5;124;43m'\u001b[39;49m\u001b[43m]\u001b[49m)\n",
      "\u001b[0;31mKeyError\u001b[0m: 'prefeito'"
     ]
    }
   ],
   "source": [
    "# acesso a chave que nao existe\n",
    "# desta forma dispara um erro\n",
    "print(dados_cidade['prefeito'])"
   ]
  },
  {
   "cell_type": "code",
   "execution_count": 11,
   "metadata": {},
   "outputs": [
    {
     "name": "stdout",
     "output_type": "stream",
     "text": [
      "None\n"
     ]
    }
   ],
   "source": [
    "# desta forma nao dispara erro, retorna \"None\"\n",
    "print(dados_cidade.get('prefeito'))"
   ]
  },
  {
   "cell_type": "code",
   "execution_count": 13,
   "metadata": {},
   "outputs": [
    {
     "name": "stdout",
     "output_type": "stream",
     "text": [
      "dict_keys(['nome', 'estado', 'area_km2', 'populacao_mil', 'pais', 'data_fundacao'])\n",
      "dict_values(['Uberlandia', 'Minas Gerais', 202, 725, 'Brasil', '31/08/1878'])\n",
      "dict_items([('nome', 'Uberlandia'), ('estado', 'Minas Gerais'), ('area_km2', 202), ('populacao_mil', 725), ('pais', 'Brasil'), ('data_fundacao', '31/08/1878')])\n"
     ]
    }
   ],
   "source": [
    "# retorno dos valores do dicionario como listas\n",
    "# chaves\n",
    "print(dados_cidade.keys())\n",
    "\n",
    "# valores\n",
    "print(dados_cidade.values())\n",
    "\n",
    "# itens\n",
    "print(dados_cidade.items())"
   ]
  }
 ],
 "metadata": {
  "kernelspec": {
   "display_name": "Python 3.9.7 64-bit",
   "language": "python",
   "name": "python3"
  },
  "language_info": {
   "codemirror_mode": {
    "name": "ipython",
    "version": 3
   },
   "file_extension": ".py",
   "mimetype": "text/x-python",
   "name": "python",
   "nbconvert_exporter": "python",
   "pygments_lexer": "ipython3",
   "version": "3.9.7"
  },
  "orig_nbformat": 4,
  "vscode": {
   "interpreter": {
    "hash": "916dbcbb3f70747c44a77c7bcd40155683ae19c65e1c03b4aa3499c5328201f1"
   }
  }
 },
 "nbformat": 4,
 "nbformat_minor": 2
}

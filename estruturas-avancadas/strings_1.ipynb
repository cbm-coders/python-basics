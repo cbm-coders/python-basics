{
 "cells": [
  {
   "cell_type": "code",
   "execution_count": 3,
   "metadata": {},
   "outputs": [
    {
     "name": "stdout",
     "output_type": "stream",
     "text": [
      "Google\n",
      "Google\n",
      "O professor Pietro, da Let's Code, disse: \"Hoje a pizza eh por minha conta\"\n"
     ]
    }
   ],
   "source": [
    "# eh possivel declarar uma string com aspas simples ou duplas\n",
    "empresa = 'Google'\n",
    "print(empresa)\n",
    "\n",
    "empresa = \"Google\"\n",
    "print(empresa)\n",
    "\n",
    "# quando eh necessario utilizar aspas no conteudo eh necessario utilizar caracteres de escape\n",
    "frase = \"O professor Pietro, da Let's Code, disse: \\\"Hoje a pizza eh por minha conta\\\"\"\n",
    "print(frase)"
   ]
  },
  {
   "cell_type": "code",
   "execution_count": 4,
   "metadata": {},
   "outputs": [
    {
     "name": "stdout",
     "output_type": "stream",
     "text": [
      "G\n",
      "Goo\n"
     ]
    }
   ],
   "source": [
    "# uma string comporta-se como uma lista em relacao ao conteudo\n",
    "print(empresa[0])\n",
    "\n",
    "print(empresa[:3])"
   ]
  },
  {
   "cell_type": "code",
   "execution_count": 6,
   "metadata": {},
   "outputs": [
    {
     "name": "stdout",
     "output_type": "stream",
     "text": [
      "Sao Paulo, Belo Horizonte, Rio de Janeiro, Brasilia <class 'str'>\n",
      "['Sao Paulo', 'Belo Horizonte', 'Rio de Janeiro', 'Brasilia'] <class 'list'>\n"
     ]
    }
   ],
   "source": [
    "# Metodos de string\n",
    "# Diferente de metodos de lista nao ha alteracao da string\n",
    "\n",
    "# split\n",
    "# retorna uma lista separando os itens pelo caracter de separacao\n",
    "# como padrao o split utiliza o espaco como separador, separando uma string em tokens\n",
    "cidades = 'Sao Paulo, Belo Horizonte, Rio de Janeiro, Brasilia'\n",
    "nomes_cidades = cidades.split(', ')\n",
    "\n",
    "print(cidades, type(cidades))\n",
    "print(nomes_cidades, type(nomes_cidades))"
   ]
  },
  {
   "cell_type": "code",
   "execution_count": 7,
   "metadata": {},
   "outputs": [
    {
     "name": "stdout",
     "output_type": "stream",
     "text": [
      "          MENU PRINCIPAL          \n",
      "MENU PRINCIPAL\n"
     ]
    }
   ],
   "source": [
    "# strip\n",
    "# remove caracteres em branco (vazios) do inicio e/ou final da string\n",
    "cabecalho = \"          MENU PRINCIPAL          \"\n",
    "print(cabecalho)\n",
    "print(cabecalho.strip())"
   ]
  },
  {
   "cell_type": "code",
   "execution_count": 10,
   "metadata": {},
   "outputs": [
    {
     "name": "stdout",
     "output_type": "stream",
     "text": [
      "rIo DE jaNeirO\n",
      "Rio De Janeiro\n",
      "Rio de janeiro\n",
      "RIO DE JANEIRO\n",
      "rio de janeiro\n"
     ]
    }
   ],
   "source": [
    "nome_cidade = 'rIo DE jaNeirO'\n",
    "\n",
    "print(nome_cidade)\n",
    "print(nome_cidade.title())\n",
    "print(nome_cidade.capitalize())\n",
    "print(nome_cidade.upper())\n",
    "print(nome_cidade.lower())"
   ]
  },
  {
   "cell_type": "code",
   "execution_count": 13,
   "metadata": {},
   "outputs": [
    {
     "name": "stdout",
     "output_type": "stream",
     "text": [
      "Booa campeão!\n"
     ]
    }
   ],
   "source": [
    "nome_cidade = input('Que cidade no Brasil eh conhecida como \\\"Cidade Maravilhos\\\"?')\n",
    "nome_cidade = nome_cidade.strip()\n",
    "\n",
    "while nome_cidade.lower() != 'rio de janeiro':\n",
    "\tprint('Tenta de novo, vai!')\n",
    "\tnome_cidade = input('Que cidade no Brasil eh conhecida como \\\"Cidade Maravilhos\\\"?')\n",
    "\n",
    "print('Booa campeão!')"
   ]
  },
  {
   "cell_type": "code",
   "execution_count": 18,
   "metadata": {},
   "outputs": [
    {
     "name": "stdout",
     "output_type": "stream",
     "text": [
      "Booa campeão!\n"
     ]
    }
   ],
   "source": [
    "nome_cidade = input('Que cidade no Brasil eh conhecida como \\\"Capital do Universo\\\"?')\n",
    "nome_cidade = nome_cidade.strip()\n",
    "\n",
    "nomes_da_capital_do_universo = ['uberlandia', 'berlandia', 'udao', 'udia', 'udi']\n",
    "\n",
    "while nome_cidade.lower() not in nomes_da_capital_do_universo:\n",
    "\tprint('Tenta de novo, vai!')\n",
    "\tnome_cidade = input('Que cidade no Brasil eh conhecida como \\\"Capital do Universo\\\"?')\n",
    "\n",
    "print('Booa campeão!')"
   ]
  },
  {
   "cell_type": "code",
   "execution_count": 19,
   "metadata": {},
   "outputs": [
    {
     "name": "stdout",
     "output_type": "stream",
     "text": [
      "True\n"
     ]
    }
   ],
   "source": [
    "mensagem = 'Voce viu o que o Pietro disse na sala ontem?'\n",
    "fui_citado = 'Pietro' in mensagem\n",
    "\n",
    "print(fui_citado)"
   ]
  }
 ],
 "metadata": {
  "kernelspec": {
   "display_name": "Python 3.9.7 64-bit",
   "language": "python",
   "name": "python3"
  },
  "language_info": {
   "codemirror_mode": {
    "name": "ipython",
    "version": 3
   },
   "file_extension": ".py",
   "mimetype": "text/x-python",
   "name": "python",
   "nbconvert_exporter": "python",
   "pygments_lexer": "ipython3",
   "version": "3.9.7"
  },
  "orig_nbformat": 4,
  "vscode": {
   "interpreter": {
    "hash": "916dbcbb3f70747c44a77c7bcd40155683ae19c65e1c03b4aa3499c5328201f1"
   }
  }
 },
 "nbformat": 4,
 "nbformat_minor": 2
}

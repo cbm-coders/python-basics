{
 "cells": [
  {
   "cell_type": "code",
   "execution_count": 11,
   "metadata": {},
   "outputs": [
    {
     "name": "stdout",
     "output_type": "stream",
     "text": [
      "['Brasil', 'Argentina', 'China', 'Canada', 'Japao'] <class 'list'>\n",
      "Tamanho da lista: 5\n",
      "Pais Japao\n",
      "Pais Japao\n",
      "['Brasil', 'Argentina', 'China', 'Canada', 'Colômbia']\n",
      "Pais Colômbia\n",
      "['Argentina', 'China']\n",
      "['Argentina', 'China', 'Canada']\n",
      "['China', 'Canada', 'Colômbia']\n",
      "['Brasil', 'Argentina', 'China']\n",
      "['Brasil', 'China', 'Colômbia']\n",
      "['Colômbia', 'Canada', 'China', 'Argentina', 'Brasil']\n"
     ]
    }
   ],
   "source": [
    "nomes_paises = ['Brasil','Argentina','China','Canada','Japao']\n",
    "\n",
    "print(nomes_paises, type(nomes_paises))\n",
    "\n",
    "print('Tamanho da lista:', len(nomes_paises))\n",
    "\n",
    "print('Pais', nomes_paises[4])\n",
    "print('Pais', nomes_paises[-1])\n",
    "\n",
    "nomes_paises[4] = 'Colômbia'\n",
    "\n",
    "print(nomes_paises)\n",
    "print('Pais', nomes_paises[4])\n",
    "\n",
    "# slice (fatiamento) da lista\n",
    "# indice final nao eh incluido\n",
    "print(nomes_paises[1:3])\n",
    "\n",
    "# aceita indices negativos\n",
    "print(nomes_paises[1:-1])\n",
    "\n",
    "# aceita omissao de um indice\n",
    "# neste caso vai ate o final da lista\n",
    "print(nomes_paises[2:])\n",
    "\n",
    "# neste caso vai do inicio ate o indice 3\n",
    "print(nomes_paises[:3])\n",
    "\n",
    "# step (passos)\n",
    "# eh possivel especificar um saldo\n",
    "\n",
    "# neste caso vai de dois em dois\n",
    "print(nomes_paises[::2])\n",
    "\n",
    "# neste caso eh possivel inverter a lista com indice negativo\n",
    "print(nomes_paises[::-1])\n"
   ]
  },
  {
   "cell_type": "code",
   "execution_count": 13,
   "metadata": {},
   "outputs": [
    {
     "name": "stdout",
     "output_type": "stream",
     "text": [
      "True\n",
      "False\n"
     ]
    }
   ],
   "source": [
    "print('Brasil' in nomes_paises)\n",
    "\n",
    "print('Canada' not in nomes_paises)"
   ]
  },
  {
   "cell_type": "code",
   "execution_count": 17,
   "metadata": {},
   "outputs": [
    {
     "name": "stdout",
     "output_type": "stream",
     "text": [
      "['Brasilia', 'Buenos Aires', 'Pequim', 'Bogota']\n",
      "['Brasilia', 'Buenos Aires', 'Paris', 'Pequim', 'Bogota']\n",
      "['Brasilia', 'Paris', 'Pequim', 'Bogota']\n",
      "['Brasilia', 'Paris', 'Bogota'] Item removido: Pequim\n"
     ]
    }
   ],
   "source": [
    "# eh possivel incluir e/ou remover elementos em uma lista\n",
    "\n",
    "# criando uma lista vazia\n",
    "lista_capitais = []\n",
    "\n",
    "lista_capitais.append('Brasilia')\n",
    "lista_capitais.append('Buenos Aires')\n",
    "lista_capitais.append('Pequim')\n",
    "lista_capitais.append('Bogota')\n",
    "\n",
    "print(lista_capitais)\n",
    "\n",
    "# para inserir um eemento em algum ponto especifico\n",
    "lista_capitais.insert(2,'Paris')\n",
    "\n",
    "print(lista_capitais)\n",
    "\n",
    "# para remover um item especifico\n",
    "# pode informar o item\n",
    "lista_capitais.remove('Buenos Aires')\n",
    "\n",
    "print(lista_capitais)\n",
    "\n",
    "# para remover pelo indice\n",
    "removido = lista_capitais.pop(2)\n",
    "\n",
    "print(lista_capitais, 'Item removido:', removido)\n"
   ]
  },
  {
   "cell_type": "code",
   "execution_count": 22,
   "metadata": {},
   "outputs": [
    {
     "name": "stdout",
     "output_type": "stream",
     "text": [
      "('Brasil', 'Argentina', 'China', 'Canada', 'Japao') <class 'tuple'>\n",
      "('Sao Paulo',) <class 'tuple'>\n"
     ]
    },
    {
     "data": {
      "text/plain": [
       "'Brasil'"
      ]
     },
     "execution_count": 22,
     "metadata": {},
     "output_type": "execute_result"
    }
   ],
   "source": [
    "# Tuplas\n",
    "\n",
    "# nao eh possivel alterar a tupla, ou seja, nao eh possivel inserir, alterar, excluir itens\n",
    "\n",
    "# a declaracao de uma tupla utiliza parenteses ou uma lista simples separada por virgulas\n",
    "nomes_paises_tuplas = ('Brasil','Argentina','China','Canada','Japao')\n",
    "\n",
    "print(nomes_paises_tuplas, type(nomes_paises_tuplas))\n",
    "\n",
    "# declarar uma variavel com uma virgula no final\n",
    "nomes_estados = 'Sao Paulo',\n",
    "\n",
    "print(nomes_estados, type(nomes_estados))\n"
   ]
  },
  {
   "cell_type": "code",
   "execution_count": 23,
   "metadata": {},
   "outputs": [
    {
     "data": {
      "text/plain": [
       "5"
      ]
     },
     "execution_count": 23,
     "metadata": {},
     "output_type": "execute_result"
    }
   ],
   "source": [
    "len(nomes_paises_tuplas)"
   ]
  },
  {
   "cell_type": "code",
   "execution_count": 24,
   "metadata": {},
   "outputs": [
    {
     "data": {
      "text/plain": [
       "'Brasil'"
      ]
     },
     "execution_count": 24,
     "metadata": {},
     "output_type": "execute_result"
    }
   ],
   "source": [
    "nomes_paises_tuplas[0]"
   ]
  },
  {
   "cell_type": "code",
   "execution_count": 25,
   "metadata": {},
   "outputs": [
    {
     "name": "stdout",
     "output_type": "stream",
     "text": [
      "Brasil China Japao\n"
     ]
    }
   ],
   "source": [
    "# unpacking: extrair conteudo da tupla em variaveis\n",
    "b, a, c, ca, j = nomes_paises_tuplas\n",
    "\n",
    "print(b, c, j)"
   ]
  }
 ],
 "metadata": {
  "kernelspec": {
   "display_name": "Python 3.9.7 64-bit",
   "language": "python",
   "name": "python3"
  },
  "language_info": {
   "codemirror_mode": {
    "name": "ipython",
    "version": 3
   },
   "file_extension": ".py",
   "mimetype": "text/x-python",
   "name": "python",
   "nbconvert_exporter": "python",
   "pygments_lexer": "ipython3",
   "version": "3.9.7"
  },
  "orig_nbformat": 4,
  "vscode": {
   "interpreter": {
    "hash": "916dbcbb3f70747c44a77c7bcd40155683ae19c65e1c03b4aa3499c5328201f1"
   }
  }
 },
 "nbformat": 4,
 "nbformat_minor": 2
}
